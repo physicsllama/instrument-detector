{
  "cells": [
    {
      "cell_type": "markdown",
      "metadata": {
        "id": "view-in-github",
        "colab_type": "text"
      },
      "source": [
        "<a href=\"https://colab.research.google.com/github/physicsllama/instrument-detector/blob/main/music.ipynb\" target=\"_parent\"><img src=\"https://colab.research.google.com/assets/colab-badge.svg\" alt=\"Open In Colab\"/></a>"
      ]
    },
    {
      "cell_type": "markdown",
      "source": [
        "# Preliminary remarks and ideas\n"
      ],
      "metadata": {
        "id": "4QPC9ZjDZ9XO"
      }
    },
    {
      "cell_type": "code",
      "execution_count": null,
      "metadata": {
        "id": "VjK9IDs4-nVX"
      },
      "outputs": [],
      "source": [
        "# Goal: AI that recognizes similarity between songs. It'll give a list of similar songs to one.\n",
        "\n",
        "# Maybe a good first thing is to do a clustering thing, where it just categorizes by genre.\n",
        "\n",
        "#Maybe better goal: shazam but for recognizing songs from singing of a melody (NLR useful?)\n",
        "# Try supervised ML, but also unsupervised.\n",
        "\n",
        "# other thing: use technique from MIT course to swipe thru song?\n",
        "\n",
        "#use clustering algorithm to distinguish different instruments!"
      ]
    },
    {
      "cell_type": "code",
      "execution_count": null,
      "metadata": {
        "id": "S0nz9bP6K7Lk"
      },
      "outputs": [],
      "source": [
        "# First need a database with songs. Start out with something simple, and short audio things\n",
        "# Then need to process data. Will I need to Fourier transform/something like that, or can I just feed it into the network?"
      ]
    },
    {
      "cell_type": "code",
      "execution_count": null,
      "metadata": {
        "colab": {
          "base_uri": "https://localhost:8080/",
          "height": 71
        },
        "id": "L0hpzUDkEFK6",
        "outputId": "7085325c-4214-4430-ac05-8197ed3bf2ee"
      },
      "outputs": [
        {
          "data": {
            "application/vnd.google.colaboratory.intrinsic+json": {
              "type": "string"
            },
            "text/plain": [
              "'\\nUseful: https://www.tensorflow.org/io/tutorials/audio\\n\\nhttps://www.altexsoft.com/blog/audio-analysis/\\n\\n\\n\\n\\nAudio sources: \\nhttps://freesound.org/browse/packs/?order=-last_updated\\n\\nhttps://bigsoundbank.com/search\\n\\nhttps://research.google.com/audioset/index.html\\n\\n'"
            ]
          },
          "execution_count": 4,
          "metadata": {},
          "output_type": "execute_result"
        }
      ],
      "source": [
        "''' Some beginning things:\n",
        "\n",
        "1) Take down data from wav files. Use files containing a single note, played with a pitch fork\n",
        "and also played with different instruments. Compare the data. Take Fourier transform. Try\n",
        "to find what note it is from this. Try to deduce instrument playing the note! Normalize stuff to have same volume, same length of audio, etc\n",
        "\n",
        "samples: notes from different instruments https://philharmonia.co.uk/resources/sound-samples/\n",
        "\n",
        "2) Take down data from more complicated files (e.g., 5 seconds).\n",
        "\n",
        "3) Get a sense of how big a neural network I need to represent data from a song\n",
        "(how many inputs are there?)\n",
        "\n",
        "4) Process data for set of songs from different genres (e.g. 3 each from classical,\n",
        "hard rock, pop, and rap) \n",
        "\n",
        "'''\n",
        "\n",
        "\n",
        "'''\n",
        "Useful: https://www.tensorflow.org/io/tutorials/audio\n",
        "\n",
        "https://www.altexsoft.com/blog/audio-analysis/\n",
        "\n",
        "\n",
        "\n",
        "\n",
        "\n",
        "Audio sources: \n",
        "https://freesound.org/browse/packs/?order=-last_updated\n",
        "\n",
        "https://bigsoundbank.com/search\n",
        "\n",
        "https://research.google.com/audioset/index.html\n",
        "\n",
        "'''"
      ]
    },
    {
      "cell_type": "markdown",
      "metadata": {
        "id": "v6FFMDiJWN9u"
      },
      "source": [
        "Take data and separate into training/testing, and arrange into folders in convenient way. Do both myself manually in Python and with automatic pytorch/whatever thing."
      ]
    },
    {
      "cell_type": "markdown",
      "metadata": {
        "id": "5QrFWxopBx9G"
      },
      "source": [
        "Make sure all audio files same length. Perhaps use only files with normal notes (no trill/tremolo nonsense?) first? "
      ]
    },
    {
      "cell_type": "markdown",
      "metadata": {
        "id": "MUMDrNwGCAMU"
      },
      "source": [
        "Sine or something for activation functions? Also, pre-process with Fourier? Or do conv neural net? Some Fourier concept in there.\n",
        "\n",
        "Standard way is to turn into images. Can I come up with something better? [Why are conv nets good for images? What is a similar \"goodness\" thing we can exploit for the properties of audio? Study conv nets first!]\n",
        "\n",
        "Now we begin a standard way of analyzing audio in ML (turning clips into spectrograms). I might experiment with other ways later - Shazam seems to have a more clever way to do it, and I can try to find my own methods.\n",
        "\n",
        "One possibility for instrument detection: maybe it's enough to just take the FFT of a 0.5 or 1 second clip, and the spectral decomposition is enough of a fingerprint?\n",
        "Then turning this fingerprint into a filter might help us isolate individual instruments in songs!\n",
        "\n",
        "Along the previous idea: maybe ML thing can be trained on each individual song (after some pre-training?) to separate out its instruments on a case-by-case basis. It takes e.g., a 1 second clip and within that clip tries to identify different fingerprints left by instruments.\n",
        "\n",
        "Maybe use something with statistical correlations or autocorrelation or something?\n",
        "\n",
        "OTHER IDEA: make *my own* data set where I use e.g., Logic & a keyboard to make songs. The input will be full songs, the output will be the separated instrument tracks (which I'll have since I made the songs on Logic). Try actual songs and things like that, also just nonsense songs. Many instruments, few instruments, etc."
      ]
    },
    {
      "cell_type": "markdown",
      "source": [
        "# Installing dependencies"
      ],
      "metadata": {
        "id": "PLGuCj4oaCxO"
      }
    },
    {
      "cell_type": "code",
      "execution_count": null,
      "metadata": {
        "id": "NXwgXz-FUkgZ",
        "colab": {
          "base_uri": "https://localhost:8080/"
        },
        "outputId": "70aa64d7-db47-4bcb-d5e4-c7a12645e169"
      },
      "outputs": [
        {
          "output_type": "stream",
          "name": "stdout",
          "text": [
            "Looking in indexes: https://pypi.org/simple, https://us-python.pkg.dev/colab-wheels/public/simple/\n",
            "Collecting tensorflow-io\n",
            "  Downloading tensorflow_io-0.26.0-cp37-cp37m-manylinux_2_12_x86_64.manylinux2010_x86_64.whl (25.9 MB)\n",
            "\u001b[K     |████████████████████████████████| 25.9 MB 69.1 MB/s \n",
            "\u001b[?25hRequirement already satisfied: tensorflow-io-gcs-filesystem==0.26.0 in /usr/local/lib/python3.7/dist-packages (from tensorflow-io) (0.26.0)\n",
            "Installing collected packages: tensorflow-io\n",
            "Successfully installed tensorflow-io-0.26.0\n"
          ]
        }
      ],
      "source": [
        "#!pip install tensorflow-io"
      ]
    },
    {
      "cell_type": "code",
      "execution_count": 29,
      "metadata": {
        "id": "FriCjs2pWJXA",
        "colab": {
          "base_uri": "https://localhost:8080/"
        },
        "outputId": "0d2fe433-8248-4d14-a8bb-bce881165ac1"
      },
      "outputs": [
        {
          "output_type": "stream",
          "name": "stdout",
          "text": [
            "\u001b[33mWARNING: Skipping tensorflow as it is not installed.\u001b[0m\n",
            "Looking in indexes: https://pypi.org/simple, https://us-python.pkg.dev/colab-wheels/public/simple/\n",
            "Requirement already satisfied: tensorflow-gpu in /usr/local/lib/python3.7/dist-packages (2.9.1)\n",
            "Requirement already satisfied: google-pasta>=0.1.1 in /usr/local/lib/python3.7/dist-packages (from tensorflow-gpu) (0.2.0)\n",
            "Requirement already satisfied: tensorboard<2.10,>=2.9 in /usr/local/lib/python3.7/dist-packages (from tensorflow-gpu) (2.9.1)\n",
            "Requirement already satisfied: libclang>=13.0.0 in /usr/local/lib/python3.7/dist-packages (from tensorflow-gpu) (14.0.6)\n",
            "Requirement already satisfied: typing-extensions>=3.6.6 in /usr/local/lib/python3.7/dist-packages (from tensorflow-gpu) (4.1.1)\n",
            "Requirement already satisfied: numpy>=1.20 in /usr/local/lib/python3.7/dist-packages (from tensorflow-gpu) (1.21.6)\n",
            "Requirement already satisfied: termcolor>=1.1.0 in /usr/local/lib/python3.7/dist-packages (from tensorflow-gpu) (1.1.0)\n",
            "Requirement already satisfied: h5py>=2.9.0 in /usr/local/lib/python3.7/dist-packages (from tensorflow-gpu) (3.1.0)\n",
            "Requirement already satisfied: keras-preprocessing>=1.1.1 in /usr/local/lib/python3.7/dist-packages (from tensorflow-gpu) (1.1.2)\n",
            "Requirement already satisfied: opt-einsum>=2.3.2 in /usr/local/lib/python3.7/dist-packages (from tensorflow-gpu) (3.3.0)\n",
            "Requirement already satisfied: tensorflow-io-gcs-filesystem>=0.23.1 in /usr/local/lib/python3.7/dist-packages (from tensorflow-gpu) (0.26.0)\n",
            "Requirement already satisfied: keras<2.10.0,>=2.9.0rc0 in /usr/local/lib/python3.7/dist-packages (from tensorflow-gpu) (2.9.0)\n",
            "Requirement already satisfied: flatbuffers<2,>=1.12 in /usr/local/lib/python3.7/dist-packages (from tensorflow-gpu) (1.12)\n",
            "Requirement already satisfied: packaging in /usr/local/lib/python3.7/dist-packages (from tensorflow-gpu) (21.3)\n",
            "Requirement already satisfied: astunparse>=1.6.0 in /usr/local/lib/python3.7/dist-packages (from tensorflow-gpu) (1.6.3)\n",
            "Requirement already satisfied: gast<=0.4.0,>=0.2.1 in /usr/local/lib/python3.7/dist-packages (from tensorflow-gpu) (0.4.0)\n",
            "Requirement already satisfied: protobuf<3.20,>=3.9.2 in /usr/local/lib/python3.7/dist-packages (from tensorflow-gpu) (3.17.3)\n",
            "Requirement already satisfied: tensorflow-estimator<2.10.0,>=2.9.0rc0 in /usr/local/lib/python3.7/dist-packages (from tensorflow-gpu) (2.9.0)\n",
            "Requirement already satisfied: setuptools in /usr/local/lib/python3.7/dist-packages (from tensorflow-gpu) (57.4.0)\n",
            "Requirement already satisfied: grpcio<2.0,>=1.24.3 in /usr/local/lib/python3.7/dist-packages (from tensorflow-gpu) (1.47.0)\n",
            "Requirement already satisfied: absl-py>=1.0.0 in /usr/local/lib/python3.7/dist-packages (from tensorflow-gpu) (1.2.0)\n",
            "Requirement already satisfied: wrapt>=1.11.0 in /usr/local/lib/python3.7/dist-packages (from tensorflow-gpu) (1.14.1)\n",
            "Requirement already satisfied: six>=1.12.0 in /usr/local/lib/python3.7/dist-packages (from tensorflow-gpu) (1.15.0)\n",
            "Requirement already satisfied: wheel<1.0,>=0.23.0 in /usr/local/lib/python3.7/dist-packages (from astunparse>=1.6.0->tensorflow-gpu) (0.37.1)\n",
            "Requirement already satisfied: cached-property in /usr/local/lib/python3.7/dist-packages (from h5py>=2.9.0->tensorflow-gpu) (1.5.2)\n",
            "Requirement already satisfied: tensorboard-data-server<0.7.0,>=0.6.0 in /usr/local/lib/python3.7/dist-packages (from tensorboard<2.10,>=2.9->tensorflow-gpu) (0.6.1)\n",
            "Requirement already satisfied: markdown>=2.6.8 in /usr/local/lib/python3.7/dist-packages (from tensorboard<2.10,>=2.9->tensorflow-gpu) (3.4.1)\n",
            "Requirement already satisfied: google-auth-oauthlib<0.5,>=0.4.1 in /usr/local/lib/python3.7/dist-packages (from tensorboard<2.10,>=2.9->tensorflow-gpu) (0.4.6)\n",
            "Requirement already satisfied: tensorboard-plugin-wit>=1.6.0 in /usr/local/lib/python3.7/dist-packages (from tensorboard<2.10,>=2.9->tensorflow-gpu) (1.8.1)\n",
            "Requirement already satisfied: werkzeug>=1.0.1 in /usr/local/lib/python3.7/dist-packages (from tensorboard<2.10,>=2.9->tensorflow-gpu) (1.0.1)\n",
            "Requirement already satisfied: google-auth<3,>=1.6.3 in /usr/local/lib/python3.7/dist-packages (from tensorboard<2.10,>=2.9->tensorflow-gpu) (1.35.0)\n",
            "Requirement already satisfied: requests<3,>=2.21.0 in /usr/local/lib/python3.7/dist-packages (from tensorboard<2.10,>=2.9->tensorflow-gpu) (2.23.0)\n",
            "Requirement already satisfied: cachetools<5.0,>=2.0.0 in /usr/local/lib/python3.7/dist-packages (from google-auth<3,>=1.6.3->tensorboard<2.10,>=2.9->tensorflow-gpu) (4.2.4)\n",
            "Requirement already satisfied: pyasn1-modules>=0.2.1 in /usr/local/lib/python3.7/dist-packages (from google-auth<3,>=1.6.3->tensorboard<2.10,>=2.9->tensorflow-gpu) (0.2.8)\n",
            "Requirement already satisfied: rsa<5,>=3.1.4 in /usr/local/lib/python3.7/dist-packages (from google-auth<3,>=1.6.3->tensorboard<2.10,>=2.9->tensorflow-gpu) (4.9)\n",
            "Requirement already satisfied: requests-oauthlib>=0.7.0 in /usr/local/lib/python3.7/dist-packages (from google-auth-oauthlib<0.5,>=0.4.1->tensorboard<2.10,>=2.9->tensorflow-gpu) (1.3.1)\n",
            "Requirement already satisfied: importlib-metadata>=4.4 in /usr/local/lib/python3.7/dist-packages (from markdown>=2.6.8->tensorboard<2.10,>=2.9->tensorflow-gpu) (4.12.0)\n",
            "Requirement already satisfied: zipp>=0.5 in /usr/local/lib/python3.7/dist-packages (from importlib-metadata>=4.4->markdown>=2.6.8->tensorboard<2.10,>=2.9->tensorflow-gpu) (3.8.1)\n",
            "Requirement already satisfied: pyasn1<0.5.0,>=0.4.6 in /usr/local/lib/python3.7/dist-packages (from pyasn1-modules>=0.2.1->google-auth<3,>=1.6.3->tensorboard<2.10,>=2.9->tensorflow-gpu) (0.4.8)\n",
            "Requirement already satisfied: chardet<4,>=3.0.2 in /usr/local/lib/python3.7/dist-packages (from requests<3,>=2.21.0->tensorboard<2.10,>=2.9->tensorflow-gpu) (3.0.4)\n",
            "Requirement already satisfied: urllib3!=1.25.0,!=1.25.1,<1.26,>=1.21.1 in /usr/local/lib/python3.7/dist-packages (from requests<3,>=2.21.0->tensorboard<2.10,>=2.9->tensorflow-gpu) (1.24.3)\n",
            "Requirement already satisfied: certifi>=2017.4.17 in /usr/local/lib/python3.7/dist-packages (from requests<3,>=2.21.0->tensorboard<2.10,>=2.9->tensorflow-gpu) (2022.6.15)\n",
            "Requirement already satisfied: idna<3,>=2.5 in /usr/local/lib/python3.7/dist-packages (from requests<3,>=2.21.0->tensorboard<2.10,>=2.9->tensorflow-gpu) (2.10)\n",
            "Requirement already satisfied: oauthlib>=3.0.0 in /usr/local/lib/python3.7/dist-packages (from requests-oauthlib>=0.7.0->google-auth-oauthlib<0.5,>=0.4.1->tensorboard<2.10,>=2.9->tensorflow-gpu) (3.2.0)\n",
            "Requirement already satisfied: pyparsing!=3.0.5,>=2.0.2 in /usr/local/lib/python3.7/dist-packages (from packaging->tensorflow-gpu) (3.0.9)\n",
            "Looking in indexes: https://pypi.org/simple, https://us-python.pkg.dev/colab-wheels/public/simple/\n",
            "Requirement already satisfied: tensorflow-io in /usr/local/lib/python3.7/dist-packages (0.26.0)\n"
          ]
        }
      ],
      "source": [
        "!pip uninstall tensorflow\n",
        "#!pip uninstall tensorflow-io\n",
        "!pip install tensorflow-gpu\n",
        "!pip install --no-deps tensorflow-io"
      ]
    },
    {
      "cell_type": "code",
      "execution_count": 30,
      "metadata": {
        "id": "CN1rGWdIWcSg"
      },
      "outputs": [],
      "source": [
        "import os\n",
        "import numpy as np\n",
        "import tensorflow as tf\n",
        "import tensorflow_io as tfio\n",
        "from google.colab import drive\n",
        "import matplotlib.pyplot as plt\n",
        "import scipy "
      ]
    },
    {
      "cell_type": "code",
      "execution_count": 31,
      "metadata": {
        "colab": {
          "base_uri": "https://localhost:8080/"
        },
        "id": "Z9t632vGVMX_",
        "outputId": "42101c94-4f0d-498b-afc0-b4ce35470fb8"
      },
      "outputs": [
        {
          "output_type": "execute_result",
          "data": {
            "text/plain": [
              "['Songs',\n",
              " 'Instruments',\n",
              " 'train_instruments',\n",
              " '.ipynb_checkpoints',\n",
              " 'testing_instruments',\n",
              " 'test.wav',\n",
              " 'Music.ipynb']"
            ]
          },
          "metadata": {},
          "execution_count": 31
        }
      ],
      "source": [
        "#drive.mount('/content/drive')\n",
        "mainpath = \"/content/drive/MyDrive/Music/\"\n",
        "os.chdir(mainpath)\n",
        "os.getcwd()\n",
        "os.listdir()"
      ]
    },
    {
      "cell_type": "markdown",
      "metadata": {
        "id": "0Zboon_yYGtY"
      },
      "source": [
        "# Organizing data"
      ]
    },
    {
      "cell_type": "code",
      "execution_count": null,
      "metadata": {
        "id": "IuoWVN2GU-nF"
      },
      "outputs": [],
      "source": [
        "instrumentpath = \"Instruments/all-samples/\"\n",
        "os.chdir(instrumentpath)"
      ]
    },
    {
      "cell_type": "code",
      "execution_count": null,
      "metadata": {
        "id": "h5xWR5_sb-Sy"
      },
      "outputs": [],
      "source": [
        "instrument_labels = os.listdir()"
      ]
    },
    {
      "cell_type": "code",
      "execution_count": null,
      "metadata": {
        "id": "9GRvU9NicCm4"
      },
      "outputs": [],
      "source": [
        "os.chdir('./')\n",
        "os.chdir(mainpath)\n",
        "os.chdir('Instruments/')"
      ]
    },
    {
      "cell_type": "code",
      "execution_count": null,
      "metadata": {
        "colab": {
          "base_uri": "https://localhost:8080/"
        },
        "id": "yZQYRoFshhhh",
        "outputId": "354b6aa5-6cc9-4d5d-bfd3-f01fe12aca78"
      },
      "outputs": [
        {
          "data": {
            "text/plain": [
              "['Instruments_train', 'Instruments_test', 'all-samples']"
            ]
          },
          "execution_count": 46,
          "metadata": {},
          "output_type": "execute_result"
        }
      ],
      "source": [
        "os.listdir()"
      ]
    },
    {
      "cell_type": "code",
      "execution_count": null,
      "metadata": {
        "colab": {
          "base_uri": "https://localhost:8080/"
        },
        "id": "lUPbcM70k71P",
        "outputId": "dc957e6b-692d-4b57-99c1-b56aa8d77861"
      },
      "outputs": [
        {
          "data": {
            "text/plain": [
              "['cello',\n",
              " 'trombone',\n",
              " 'bassoon',\n",
              " 'violin',\n",
              " 'bass clarinet',\n",
              " 'banjo',\n",
              " 'clarinet',\n",
              " 'trumpet',\n",
              " 'oboe',\n",
              " 'guitar',\n",
              " 'contrabassoon',\n",
              " 'flute',\n",
              " 'viola',\n",
              " 'mandolin',\n",
              " 'double bass',\n",
              " 'tuba',\n",
              " 'cor anglais',\n",
              " 'french horn',\n",
              " 'percussion',\n",
              " 'saxophone']"
            ]
          },
          "execution_count": 47,
          "metadata": {},
          "output_type": "execute_result"
        }
      ],
      "source": [
        "instrument_labels"
      ]
    },
    {
      "cell_type": "code",
      "execution_count": null,
      "metadata": {
        "colab": {
          "base_uri": "https://localhost:8080/"
        },
        "id": "d9aoMak3t6xg",
        "outputId": "30cfa63c-b4ef-44cf-d72b-11a0034f93ca"
      },
      "outputs": [
        {
          "name": "stdout",
          "output_type": "stream",
          "text": [
            "Moved stuff from cello!\n",
            "Moved stuff from trombone!\n",
            "Moved stuff from bassoon!\n",
            "Moved stuff from violin!\n",
            "Moved stuff from bass clarinet!\n",
            "Moved stuff from banjo!\n",
            "Moved stuff from clarinet!\n",
            "Moved stuff from trumpet!\n",
            "Moved stuff from oboe!\n",
            "Moved stuff from guitar!\n",
            "Moved stuff from contrabassoon!\n",
            "Moved stuff from flute!\n",
            "Moved stuff from viola!\n",
            "Moved stuff from mandolin!\n",
            "Moved stuff from double bass!\n",
            "Moved stuff from tuba!\n",
            "Moved stuff from cor anglais!\n",
            "Moved stuff from french horn!\n",
            "Moved stuff from percussion!\n",
            "Moved stuff from saxophone!\n"
          ]
        }
      ],
      "source": [
        "os.chdir('./')\n",
        "os.chdir(mainpath)\n",
        "os.chdir('Instruments/')\n",
        "\n",
        "for instrument in instrument_labels:\n",
        "  sounds = os.listdir('all-samples/' + instrument)\n",
        "  for sound in sounds:\n",
        "    if sound == '.DS_Store':\n",
        "      pass\n",
        "    else:\n",
        "      soundpath1 = 'all-samples/' + instrument + '/' + sound\n",
        "      p = np.random.rand()\n",
        "      if p <= 0.3:\n",
        "        soundpath2 = 'Instruments_test/' + sound\n",
        "      else:\n",
        "        soundpath2 = 'Instruments_train/' + sound\n",
        "      os.rename(soundpath1, soundpath2)\n",
        "  print('Moved stuff from ' + instrument + '!')"
      ]
    },
    {
      "cell_type": "code",
      "execution_count": null,
      "metadata": {
        "colab": {
          "base_uri": "https://localhost:8080/"
        },
        "id": "r96LemMcYLlp",
        "outputId": "27c0b501-4ce5-4046-bcda-43a1a2f25c69"
      },
      "outputs": [
        {
          "data": {
            "text/plain": [
              "['Instruments_train', 'Instruments_test', 'all-samples']"
            ]
          },
          "execution_count": 60,
          "metadata": {},
          "output_type": "execute_result"
        }
      ],
      "source": [
        "os.listdir()"
      ]
    },
    {
      "cell_type": "code",
      "execution_count": null,
      "metadata": {
        "id": "e-Ey4zUOs6Ke"
      },
      "outputs": [],
      "source": [
        "os.chdir('Instruments_test')"
      ]
    },
    {
      "cell_type": "code",
      "execution_count": null,
      "metadata": {
        "colab": {
          "base_uri": "https://localhost:8080/"
        },
        "id": "FBb1_FDXoR41",
        "outputId": "31fb52a9-34c1-4696-bb8b-819544f4caff"
      },
      "outputs": [
        {
          "data": {
            "text/plain": [
              "4076"
            ]
          },
          "execution_count": 62,
          "metadata": {},
          "output_type": "execute_result"
        }
      ],
      "source": [
        "len(os.listdir())"
      ]
    },
    {
      "cell_type": "code",
      "execution_count": null,
      "metadata": {
        "id": "prkupPjYoUke"
      },
      "outputs": [],
      "source": [
        "os.chdir('../')"
      ]
    },
    {
      "cell_type": "code",
      "execution_count": null,
      "metadata": {
        "id": "ARhB-76OoYh_"
      },
      "outputs": [],
      "source": [
        "os.chdir('Instruments_train')"
      ]
    },
    {
      "cell_type": "code",
      "execution_count": null,
      "metadata": {
        "colab": {
          "base_uri": "https://localhost:8080/"
        },
        "id": "_QHlV47Toa76",
        "outputId": "9724f280-b596-4a90-8a64-daf9432c27ed"
      },
      "outputs": [
        {
          "data": {
            "text/plain": [
              "3"
            ]
          },
          "execution_count": 67,
          "metadata": {},
          "output_type": "execute_result"
        }
      ],
      "source": [
        "len(os.listdir())"
      ]
    },
    {
      "cell_type": "code",
      "execution_count": null,
      "metadata": {
        "id": "B3QFY5eZocPe"
      },
      "outputs": [],
      "source": [
        "os.chdir('../')"
      ]
    },
    {
      "cell_type": "code",
      "execution_count": null,
      "metadata": {
        "id": "3A7gfHE1ot39"
      },
      "outputs": [],
      "source": [
        "#next: delete random folders of percussion and stuff like that that were left over in training and testing. To do this, check that all files in the\n",
        "#training and testing folders were "
      ]
    },
    {
      "cell_type": "markdown",
      "source": [
        "# Pre-processing data"
      ],
      "metadata": {
        "id": "tfQUpgmDT8FU"
      }
    },
    {
      "cell_type": "code",
      "source": [
        "# Function that will make things easier:\n",
        "def apply_to_set(f, old_set):\n",
        "  new_set = []\n",
        "  for i in old_set:\n",
        "    new_set.append(np.array(f(i)))\n",
        "  return new_set"
      ],
      "metadata": {
        "id": "_rrZpUGEEqCc"
      },
      "execution_count": 65,
      "outputs": []
    },
    {
      "cell_type": "code",
      "source": [
        "testing_samples = os.listdir('Instruments/Instruments_test/')"
      ],
      "metadata": {
        "id": "PDKZLeb15jIg"
      },
      "execution_count": null,
      "outputs": []
    },
    {
      "cell_type": "code",
      "source": [
        "normalnotes_testing = []\n",
        "for i in testing_samples:\n",
        "  if i.find('normal')!=-1:\n",
        "    normalnotes_testing.append(i)\n",
        "np.save('testing_instruments/testing_labels', normalnotes_testing, allow_pickle='True')"
      ],
      "metadata": {
        "id": "zY_crzhm7SNT"
      },
      "execution_count": null,
      "outputs": []
    },
    {
      "cell_type": "code",
      "source": [
        "training_samples = os.listdir('Instruments/Instruments_train/')"
      ],
      "metadata": {
        "id": "KnABZpB4DTL6"
      },
      "execution_count": null,
      "outputs": []
    },
    {
      "cell_type": "code",
      "source": [
        "normalnotes_training = []\n",
        "for i in training_samples:\n",
        "  if i.find('normal')!=-1:\n",
        "    normalnotes_training.append(i)\n",
        "np.save('train_instruments/training_labels', normalnotes_training, allow_pickle='True')"
      ],
      "metadata": {
        "id": "HV_U2z5VDO_c"
      },
      "execution_count": null,
      "outputs": []
    },
    {
      "cell_type": "code",
      "source": [
        "#make functions nicer later! (add domain and range, as well as function descriptions)\n",
        "def io_to_array(io_tensor):\n",
        "  trimmed_tensor = io_tensor[10:]\n",
        "  squeezed_tensor = tf.squeeze(trimmed_tensor)\n",
        "  return np.array(squeezed_tensor)"
      ],
      "metadata": {
        "id": "wgp0u91rQEob"
      },
      "execution_count": null,
      "outputs": []
    },
    {
      "cell_type": "code",
      "source": [
        "os.listdir('testing_instruments')"
      ],
      "metadata": {
        "colab": {
          "base_uri": "https://localhost:8080/"
        },
        "id": "87ZZnpZ-FZBR",
        "outputId": "2aa6b674-6605-4bdf-a23e-97e2685c205a"
      },
      "execution_count": null,
      "outputs": [
        {
          "output_type": "execute_result",
          "data": {
            "text/plain": [
              "['testing_labels.npy', 'normal_arrays_test.npy']"
            ]
          },
          "metadata": {},
          "execution_count": 126
        }
      ]
    },
    {
      "cell_type": "code",
      "source": [
        "testing_arrays = []\n",
        "for i in range(len(normalnotes_testing)):\n",
        "  path = 'Instruments/Instruments_test/' + normalnotes_testing[i]\n",
        "  iofile = tfio.audio.AudioIOTensor(path)\n",
        "  testing_arrays.append(io_to_array(iofile))\n",
        "  if i %100 == 0:\n",
        "    print (str(i) + ' done!')"
      ],
      "metadata": {
        "id": "u04vHORWXnWT"
      },
      "execution_count": null,
      "outputs": []
    },
    {
      "cell_type": "code",
      "source": [
        "np.save('testing_instruments/testing_arrays', testing_arrays, allow_pickle='True')"
      ],
      "metadata": {
        "colab": {
          "base_uri": "https://localhost:8080/"
        },
        "id": "hm9OVyH5FVHJ",
        "outputId": "36935f57-558e-4c87-c39e-1bd34e77ade5"
      },
      "execution_count": null,
      "outputs": [
        {
          "output_type": "stream",
          "name": "stderr",
          "text": [
            "/usr/local/lib/python3.7/dist-packages/numpy/lib/npyio.py:528: VisibleDeprecationWarning: Creating an ndarray from ragged nested sequences (which is a list-or-tuple of lists-or-tuples-or ndarrays with different lengths or shapes) is deprecated. If you meant to do this, you must specify 'dtype=object' when creating the ndarray.\n",
            "  arr = np.asanyarray(arr)\n"
          ]
        }
      ]
    },
    {
      "cell_type": "code",
      "source": [
        "training_arrays = []\n",
        "for i in range(len(normalnotes_training)):\n",
        "  path = 'Instruments/Instruments_train/' + normalnotes_training[i]\n",
        "  iofile = tfio.audio.AudioIOTensor(path)\n",
        "  training_arrays.append(io_to_array(iofile))\n",
        "  if i %100 == 0:\n",
        "    print (str(i) + ' done!')"
      ],
      "metadata": {
        "id": "Q84BhyVMFSTO"
      },
      "execution_count": null,
      "outputs": []
    },
    {
      "cell_type": "code",
      "source": [
        "np.save('train_instruments/training_arrays', training_arrays, allow_pickle='True')"
      ],
      "metadata": {
        "colab": {
          "base_uri": "https://localhost:8080/"
        },
        "id": "L7Mp1GJIF2YW",
        "outputId": "5e170f8e-9ff6-4882-bd36-fc235f747255"
      },
      "execution_count": null,
      "outputs": [
        {
          "output_type": "stream",
          "name": "stderr",
          "text": [
            "/usr/local/lib/python3.7/dist-packages/numpy/lib/npyio.py:528: VisibleDeprecationWarning: Creating an ndarray from ragged nested sequences (which is a list-or-tuple of lists-or-tuples-or ndarrays with different lengths or shapes) is deprecated. If you meant to do this, you must specify 'dtype=object' when creating the ndarray.\n",
            "  arr = np.asanyarray(arr)\n"
          ]
        }
      ]
    },
    {
      "cell_type": "markdown",
      "source": [
        "# Metadata and selecting useful data"
      ],
      "metadata": {
        "id": "cEHxQvctSuJJ"
      }
    },
    {
      "cell_type": "code",
      "source": [
        "# Below I first understand the data set. How many of each type of instrument in training? In testing?\n",
        "# What is the typical audio length for each instrument?"
      ],
      "metadata": {
        "id": "D1bDyXk4TSzw"
      },
      "execution_count": null,
      "outputs": []
    },
    {
      "cell_type": "code",
      "source": [
        "# Example of how to load a data file: np.load('train_instruments/normal_arrays.npy', allow_pickle=True)"
      ],
      "metadata": {
        "id": "PNZA1z_wk3nc"
      },
      "execution_count": null,
      "outputs": []
    },
    {
      "cell_type": "code",
      "source": [
        "training_arrays = np.load('train_instruments/training_arrays.npy', allow_pickle=True)\n",
        "training_labels = np.load('train_instruments/training_labels.npy', allow_pickle = True)\n",
        "testing_arrays = np.load('testing_instruments/testing_arrays.npy', allow_pickle=True)\n",
        "testing_labels = np.load('testing_instruments/testing_labels.npy', allow_pickle=True)"
      ],
      "metadata": {
        "id": "VlHnhFu0kgaB"
      },
      "execution_count": null,
      "outputs": []
    },
    {
      "cell_type": "code",
      "source": [
        "instrument_labels = ['cello',\n",
        " 'trombone',\n",
        " 'bassoon',\n",
        " 'violin',\n",
        " 'bass-clarinet',\n",
        " 'banjo',\n",
        " 'clarinet',\n",
        " 'trumpet',\n",
        " 'oboe',\n",
        " 'guitar',\n",
        " 'contrabassoon',\n",
        " 'flute',\n",
        " 'viola',\n",
        " 'mandolin',\n",
        " 'double-bass',\n",
        " 'tuba',\n",
        " 'french-horn',\n",
        " 'saxophone',\n",
        " 'english-horn']"
      ],
      "metadata": {
        "id": "Brscu6o6TMtt"
      },
      "execution_count": null,
      "outputs": []
    },
    {
      "cell_type": "code",
      "source": [
        "# First number in value of dictionary metadata is number of times the instrument is included in the data.\n",
        "# Second number in value of dictionary is average duration of a clip containing the instrument.\n",
        "def files_to_metadata(data, labels):\n",
        "  metadata = {}\n",
        "  for i in instrument_labels:\n",
        "    metadata[i] = [0, 0]\n",
        "  \n",
        "  for i in range(len(labels)):\n",
        "    for j in instrument_labels:\n",
        "      if labels[i].find(j) == 0:\n",
        "        metadata[j][0] += 1\n",
        "        metadata[j][1] += len(data[i])\n",
        "\n",
        "  for i in instrument_labels:\n",
        "    assert metadata[i][0] != 0\n",
        "    metadata[i][1] = int(metadata[i][1]/metadata[i][0])\n",
        "  return metadata"
      ],
      "metadata": {
        "id": "QZg_WTI-qbtJ"
      },
      "execution_count": null,
      "outputs": []
    },
    {
      "cell_type": "code",
      "source": [
        "testing_metadata = files_to_metadata(testing_arrays, testing_labels)\n",
        "training_metadata = files_to_metadata(training_arrays, training_labels)"
      ],
      "metadata": {
        "id": "pEMaPWznUUxY"
      },
      "execution_count": null,
      "outputs": []
    },
    {
      "cell_type": "code",
      "source": [
        "def longest(data, labels, bound):\n",
        "  assert len(data) == len(labels)\n",
        "  restricted_data = []\n",
        "  restricted_labels = []\n",
        "  for i in range(len(data)):\n",
        "    if len(data[i]) > bound:\n",
        "      restricted_data.append(data[i])\n",
        "      restricted_labels.append(labels[i])\n",
        "  return restricted_data, restricted_labels"
      ],
      "metadata": {
        "id": "ONJp-tzws5y4"
      },
      "execution_count": null,
      "outputs": []
    },
    {
      "cell_type": "code",
      "source": [
        "longest_testing_arrays, longest_testing_labels = longest(testing_arrays, testing_labels, 44100)\n",
        "longest_training_arrays, longest_training_labels = longest(training_arrays, training_labels, 44100)"
      ],
      "metadata": {
        "id": "IFYPOpDCuOGE"
      },
      "execution_count": null,
      "outputs": []
    },
    {
      "cell_type": "code",
      "source": [
        "longest_training_metadata = files_to_metadata(longest_training_arrays, longest_training_labels)\n",
        "longest_testing_metadata = files_to_metadata(longest_testing_arrays, longest_testing_labels)\n",
        "longest_training_metadata"
      ],
      "metadata": {
        "colab": {
          "base_uri": "https://localhost:8080/"
        },
        "id": "0q_pGAz4vFhf",
        "outputId": "93ce2a17-5ff5-45bf-8d4e-092fb434531c"
      },
      "execution_count": null,
      "outputs": [
        {
          "output_type": "execute_result",
          "data": {
            "text/plain": [
              "{'banjo': [53, 155097],\n",
              " 'bass-clarinet': [196, 95335],\n",
              " 'bassoon': [220, 109974],\n",
              " 'cello': [259, 82800],\n",
              " 'clarinet': [365, 100548],\n",
              " 'contrabassoon': [244, 108778],\n",
              " 'double-bass': [352, 76925],\n",
              " 'english-horn': [255, 138284],\n",
              " 'flute': [255, 96884],\n",
              " 'french-horn': [221, 115700],\n",
              " 'guitar': [53, 214066],\n",
              " 'mandolin': [26, 137388],\n",
              " 'oboe': [211, 73401],\n",
              " 'saxophone': [120, 122418],\n",
              " 'trombone': [178, 123409],\n",
              " 'trumpet': [214, 112213],\n",
              " 'tuba': [83, 128542],\n",
              " 'viola': [270, 67659],\n",
              " 'violin': [320, 66478]}"
            ]
          },
          "metadata": {},
          "execution_count": 76
        }
      ]
    },
    {
      "cell_type": "markdown",
      "source": [
        "**Conclusion: if we restrict to a dataset containing only files with at least 44100 samples, we still have decent statistics (>10 for all, and >100 for most). So we'll have a second of audio, and we'll select the second surrounding the peak of the sound.**"
      ],
      "metadata": {
        "id": "I1uDj_FCu2-6"
      }
    },
    {
      "cell_type": "code",
      "source": [
        "# Note: I explicitly checked that the ordering of the audio files and labels was correct."
      ],
      "metadata": {
        "id": "3BpQrOgLUhco"
      },
      "execution_count": null,
      "outputs": []
    },
    {
      "cell_type": "markdown",
      "source": [
        "# Processing data"
      ],
      "metadata": {
        "id": "HNHY8H04TxFl"
      }
    },
    {
      "cell_type": "code",
      "source": [
        "def restricted_audio(audio, duration, rate):\n",
        "  points = rate * duration\n",
        "  middle = np.argmax(audio)\n",
        "  begin = int(middle-points/2)\n",
        "  end = int(middle+points/2)\n",
        "  if begin < 0:\n",
        "    begin = 0\n",
        "    end = int(points)\n",
        "  return audio[begin:end]"
      ],
      "metadata": {
        "id": "P5surNYFxuTM"
      },
      "execution_count": null,
      "outputs": []
    },
    {
      "cell_type": "code",
      "source": [
        "def trim_data(data, duration, rate):\n",
        "  trimmed = []\n",
        "  for i in data:\n",
        "    trimmed.append(restricted_audio(i, duration, rate))\n",
        "  return trimmed"
      ],
      "metadata": {
        "id": "tgyiiX-02XU0"
      },
      "execution_count": null,
      "outputs": []
    },
    {
      "cell_type": "code",
      "source": [
        "long_training_data = trim_data(longest_training_arrays, 1, 44100)\n",
        "short_training_data = trim_data(longest_training_arrays, 0.2, 44100)\n",
        "long_testing_data = trim_data(longest_testing_arrays, 1, 44100)\n",
        "short_testing_data = trim_data(longest_testing_arrays, 0.2, 44100)"
      ],
      "metadata": {
        "id": "TMNs0QkV2SBC"
      },
      "execution_count": null,
      "outputs": []
    },
    {
      "cell_type": "code",
      "source": [
        "# Now normalize data:\n",
        "def normalize(data):\n",
        "  return data - np.ones(len(data))*np.mean(data) / np.std(data)"
      ],
      "metadata": {
        "id": "GPmunZ525Ptm"
      },
      "execution_count": 110,
      "outputs": []
    },
    {
      "cell_type": "code",
      "source": [
        "training_long_norm = apply_to_set(normalize, long_training_data)\n",
        "training_short_norm = apply_to_set(normalize, short_training_data)\n",
        "testing_long_norm = apply_to_set(normalize, long_testing_data)\n",
        "testing_short_norm = apply_to_set(normalize, short_testing_data)"
      ],
      "metadata": {
        "id": "wIgtD19Y55ev"
      },
      "execution_count": null,
      "outputs": []
    },
    {
      "cell_type": "code",
      "source": [
        "os.listdir()"
      ],
      "metadata": {
        "colab": {
          "base_uri": "https://localhost:8080/"
        },
        "id": "ZEkQg4HN7TMv",
        "outputId": "81546fba-9caa-41f8-bfb0-2c541a853288"
      },
      "execution_count": null,
      "outputs": [
        {
          "output_type": "execute_result",
          "data": {
            "text/plain": [
              "['Songs',\n",
              " 'Instruments',\n",
              " 'train_instruments',\n",
              " '.ipynb_checkpoints',\n",
              " 'testing_instruments',\n",
              " 'Music.ipynb',\n",
              " 'test1.wav']"
            ]
          },
          "metadata": {},
          "execution_count": 148
        }
      ]
    },
    {
      "cell_type": "code",
      "source": [
        "np.save('train_instruments/long_data_raw', training_long_norm, allow_pickle=True)\n",
        "np.save('train_instruments/short_data_raw', training_short_norm, allow_pickle=True)\n",
        "np.save('testing_instruments/long_data_raw', testing_long_norm, allow_pickle=True)\n",
        "np.save('testing_instruments/short_data_raw', testing_short_norm, allow_pickle=True)"
      ],
      "metadata": {
        "colab": {
          "base_uri": "https://localhost:8080/"
        },
        "id": "cu8FKTRz7Qn2",
        "outputId": "6ef788e3-839e-42e4-c5e1-1e399ef6aff8"
      },
      "execution_count": null,
      "outputs": [
        {
          "output_type": "stream",
          "name": "stderr",
          "text": [
            "/usr/local/lib/python3.7/dist-packages/numpy/lib/npyio.py:528: VisibleDeprecationWarning: Creating an ndarray from ragged nested sequences (which is a list-or-tuple of lists-or-tuples-or ndarrays with different lengths or shapes) is deprecated. If you meant to do this, you must specify 'dtype=object' when creating the ndarray.\n",
            "  arr = np.asanyarray(arr)\n"
          ]
        }
      ]
    },
    {
      "cell_type": "code",
      "source": [
        "np.save('testing_instruments/final_labels', longest_testing_labels, allow_pickle=True)\n",
        "np.save('train_instruments/final_labels', longest_training_labels, allow_pickle=True)"
      ],
      "metadata": {
        "id": "iBs0gubu9q0D"
      },
      "execution_count": null,
      "outputs": []
    },
    {
      "cell_type": "markdown",
      "source": [
        "# Fourier transforms (and spectrograms?)"
      ],
      "metadata": {
        "id": "njau0V6X_PwM"
      }
    },
    {
      "cell_type": "code",
      "source": [
        "training_long = np.load('train_instruments/long_data_raw.npy', allow_pickle=True)\n",
        "training_short = np.load('train_instruments/short_data_raw.npy', allow_pickle=True)\n",
        "testing_long = np.load('testing_instruments/long_data_raw.npy', allow_pickle=True)\n",
        "testing_short = np.load('testing_instruments/short_data_raw.npy', allow_pickle=True)\n",
        "\n",
        "training_labels = np.load('train_instruments/final_labels.npy', allow_pickle=True)\n",
        "testing_labels = np.load('testing_instruments/final_labels.npy', allow_pickle=True)"
      ],
      "metadata": {
        "id": "8Z5SZZYmvUJ7"
      },
      "execution_count": 32,
      "outputs": []
    },
    {
      "cell_type": "code",
      "source": [
        "# let's turn one of the small clips into a Fourier mode. The decomposition should be for sines/cosines.\n",
        "# basic check we can do is that the leading frequency corresponds to the note correctly!"
      ],
      "metadata": {
        "id": "PuzQPGmvzUCU"
      },
      "execution_count": null,
      "outputs": []
    },
    {
      "cell_type": "code",
      "source": [
        "# we'll pick the tenth guy. this is D note, which is 293.7 Hz, or 288.3 maybe.\n",
        "\n",
        "# https://pages.mtu.edu/~suits/notefreq432.html"
      ],
      "metadata": {
        "id": "sOpYXTit1QTS"
      },
      "execution_count": null,
      "outputs": []
    },
    {
      "cell_type": "code",
      "source": [
        "rate = 44100"
      ],
      "metadata": {
        "id": "3HCn00SiBIVP"
      },
      "execution_count": 39,
      "outputs": []
    },
    {
      "cell_type": "code",
      "source": [
        "training_labels[270]"
      ],
      "metadata": {
        "colab": {
          "base_uri": "https://localhost:8080/",
          "height": 35
        },
        "id": "7yEBj3et00gm",
        "outputId": "7fa99783-b715-4370-9966-eb4ec538c34b"
      },
      "execution_count": 103,
      "outputs": [
        {
          "output_type": "execute_result",
          "data": {
            "text/plain": [
              "'double-bass_As2_15_molto-pianissimo_arco-normal.mp3'"
            ],
            "application/vnd.google.colaboratory.intrinsic+json": {
              "type": "string"
            }
          },
          "metadata": {},
          "execution_count": 103
        }
      ]
    },
    {
      "cell_type": "code",
      "source": [
        "x = np.array(training_short[270])\n",
        "r = np.arange(0,len(x))\n",
        "y = scipy.fft.dct(x)\n",
        "plt.xlim(1, 500)\n",
        "plt.plot(r,y)\n",
        "#print(np.argmax(y))\n",
        "print(np.argmax(abs(y)) * rate /(2*len(x))) \n",
        "#print(590/288)"
      ],
      "metadata": {
        "colab": {
          "base_uri": "https://localhost:8080/",
          "height": 283
        },
        "id": "3cKuTETA7xGe",
        "outputId": "b0ff8d29-7cd8-4d07-a41c-3bc110e32e88"
      },
      "execution_count": 107,
      "outputs": [
        {
          "output_type": "stream",
          "name": "stdout",
          "text": [
            "115.0\n"
          ]
        },
        {
          "output_type": "display_data",
          "data": {
            "text/plain": [
              "<Figure size 432x288 with 1 Axes>"
            ],
            "image/png": "[encoded data removed]"
          },
          "metadata": {
            "needs_background": "light"
          }
        }
      ]
    },
    {
      "cell_type": "code",
      "source": [
        "#from looking at data above, it seems that the Fourier decomposition works relatively well, and correctly picks out the note in almost all cases.\n",
        "#NOTE: in some cases, for a reason I don't yet understand (e.g. in instrument 10 - violin_D4_1_piano_arco-normal.mp3) it picks out a frequency which is TWICE as large?\n",
        "#eventually try to run above analysis on entire dataset!"
      ],
      "metadata": {
        "id": "eEJnlnijnN88"
      },
      "execution_count": null,
      "outputs": []
    },
    {
      "cell_type": "code",
      "source": [
        "def data_to_fourier(data):\n",
        "  x = np.array(data)\n",
        "  return scipy.fft.dct(x)\n",
        "\n",
        "fourier_training = apply_to_set(data_to_fourier, training_short)\n",
        "fourier_testing = apply_to_set(data_to_fourier, testing_short)"
      ],
      "metadata": {
        "id": "cOyjeZego8R8"
      },
      "execution_count": 104,
      "outputs": []
    },
    {
      "cell_type": "code",
      "source": [
        "def strip_zero_modes(data):\n",
        "  return np.delete(data, [0,1])\n",
        "\n",
        "fourier_training = apply_to_set(strip_zero_mode, fourier_training)\n",
        "fourier_testing = apply_to_set(strip_zero_mode, fourier_testing)"
      ],
      "metadata": {
        "id": "5Q-LWVVOp0Aj"
      },
      "execution_count": 105,
      "outputs": []
    },
    {
      "cell_type": "code",
      "source": [
        "# Lastly, we need to normalize (or standardize) the data.\n",
        "fourier_training = apply_to_set(normalize, fourier_training)\n",
        "fourier_testing = apply_to_set(normalize, fourier_testing)"
      ],
      "metadata": {
        "id": "o1uIO1cRsM-y"
      },
      "execution_count": 111,
      "outputs": []
    },
    {
      "cell_type": "code",
      "source": [
        "np.save('train_instruments/fourier_training', fourier_training, allow_pickle=True)\n",
        "np.save('testing_instruments/fourier_testing', fourier_testing, allow_pickle=True)"
      ],
      "metadata": {
        "colab": {
          "base_uri": "https://localhost:8080/"
        },
        "id": "3tY0NYrira8l",
        "outputId": "a526d2e9-4912-44ec-f2f4-25aae39cdd9b"
      },
      "execution_count": 114,
      "outputs": [
        {
          "output_type": "stream",
          "name": "stderr",
          "text": [
            "/usr/local/lib/python3.7/dist-packages/numpy/lib/npyio.py:528: VisibleDeprecationWarning: Creating an ndarray from ragged nested sequences (which is a list-or-tuple of lists-or-tuples-or ndarrays with different lengths or shapes) is deprecated. If you meant to do this, you must specify 'dtype=object' when creating the ndarray.\n",
            "  arr = np.asanyarray(arr)\n"
          ]
        }
      ]
    },
    {
      "cell_type": "code",
      "source": [
        "def raw_to_spectro(data):\n",
        "  return tfio.audio.spectrogram(data, nfft=512, window=512, stride=256)\n",
        "\n",
        "training_spectrograms = apply_to_set(raw_to_spectro, training_long)\n",
        "testing_spectrograms = apply_to_set(raw_to_spectro, testing_long)"
      ],
      "metadata": {
        "id": "sMiV-uosDklq"
      },
      "execution_count": null,
      "outputs": []
    },
    {
      "cell_type": "code",
      "source": [
        "np.save('train_instruments/training_spectrograms', training_spectrograms, allow_pickle=True)\n",
        "np.save('testing_instruments/testing_spectrograms', testing_spectrograms, allow_pickle=True)"
      ],
      "metadata": {
        "colab": {
          "base_uri": "https://localhost:8080/"
        },
        "id": "vOQGWXgpE1fk",
        "outputId": "91774169-20d9-46f6-d39f-d2489f7644f5"
      },
      "execution_count": 161,
      "outputs": [
        {
          "output_type": "stream",
          "name": "stderr",
          "text": [
            "/usr/local/lib/python3.7/dist-packages/numpy/lib/npyio.py:528: VisibleDeprecationWarning: Creating an ndarray from ragged nested sequences (which is a list-or-tuple of lists-or-tuples-or ndarrays with different lengths or shapes) is deprecated. If you meant to do this, you must specify 'dtype=object' when creating the ndarray.\n",
            "  arr = np.asanyarray(arr)\n"
          ]
        }
      ]
    },
    {
      "cell_type": "code",
      "source": [
        "def file_to_instrument(file):\n",
        "  instrument = ''\n",
        "  for i in file:\n",
        "    if i == '_':\n",
        "      break\n",
        "    else:\n",
        "      instrument += i\n",
        "  return instrument\n",
        "\n",
        "training_labels_instruments_array = apply_to_set(file_to_instrument, training_labels)\n",
        "testing_labels_instruments_array = apply_to_set(file_to_instrument, testing_labels)\n",
        "\n",
        "training_labels_instruments = [str(i) for i in training_labels_instruments_array]\n",
        "testing_labels_instruments = [str(i) for i in testing_labels_instruments_array]\n",
        "\n",
        "np.save('train_instruments/instrument_labels_train', training_labels_instruments, allow_pickle=True)\n",
        "np.save('testing_instruments/instrument_labels_test', testing_labels_instruments, allow_pickle=True)"
      ],
      "metadata": {
        "id": "qju1iRhjM3-t"
      },
      "execution_count": 180,
      "outputs": []
    },
    {
      "cell_type": "markdown",
      "source": [
        "# Defining the model"
      ],
      "metadata": {
        "id": "1qRy8YaKRVxs"
      }
    },
    {
      "cell_type": "markdown",
      "source": [
        "5) Normalize both training and testing data sets.\n",
        "\n",
        "6) Run analysis on: (maybe keep in mind to randomize order in which I feed data, e.g., not all violins in a row?)\n",
        "(a) Raw files\n",
        "(b) Fouriers\n",
        "(c) Spectrograms\n",
        "\n",
        "7) Try above with different architectures, experiment!\n",
        "\n",
        "8) See if I can come up with a different way to analyze the data\n",
        "\n",
        "9) Fingerprint of instruments? Generalize to other project if possible (of separating out instruments)\n",
        "\n",
        "10) ML experiments: see what happens as I change size of data set. How much data did I actually need? How does this vary as I change algorithms?"
      ],
      "metadata": {
        "id": "gAaV8gnMCT4i"
      }
    },
    {
      "cell_type": "code",
      "source": [
        "#load data"
      ],
      "metadata": {
        "id": "lP4UvHoJGh7B"
      },
      "execution_count": null,
      "outputs": []
    },
    {
      "cell_type": "code",
      "source": [
        "training_long = np.load('train_instruments/long_data_raw.npy', allow_pickle=True)\n",
        "training_short = np.load('train_instruments/short_data_raw.npy', allow_pickle=True)\n",
        "training_fourier = np.load('train_instruments/fourier_training.npy', allow_pickle=True)\n",
        "training_spectro = np.load('train_instruments/training_spectrograms.npy', allow_pickle=True)\n",
        "\n",
        "testing_long = np.load('testing_instruments/long_data_raw.npy', allow_pickle=True)\n",
        "testing_short = np.load('testing_instruments/short_data_raw.npy', allow_pickle=True)\n",
        "testing_fourier = np.load('testing_instruments/fourier_testing.npy', allow_pickle=True)\n",
        "testing_spectro = np.load('testing_instruments/testing_spectrograms.npy', allow_pickle=True)\n",
        "\n",
        "\n",
        "train_labels_inst = np.load('train_instruments/instrument_labels_train.npy', allow_pickle=True)\n",
        "test_labels_inst = np.load('testing_instruments/instrument_labels_test.npy', allow_pickle=True)"
      ],
      "metadata": {
        "id": "WeUbSlt_Gm4X"
      },
      "execution_count": 181,
      "outputs": []
    },
    {
      "cell_type": "code",
      "source": [
        "#keep in mind: spectrograms not normalized yet!"
      ],
      "metadata": {
        "id": "cC1u_CCuGSTv"
      },
      "execution_count": null,
      "outputs": []
    },
    {
      "cell_type": "code",
      "source": [
        ""
      ],
      "metadata": {
        "id": "KywDj-u-RK-R"
      },
      "execution_count": null,
      "outputs": []
    },
    {
      "cell_type": "code",
      "source": [
        "#additionally: try to LEARN the notes with ML. Maybe the ML algorithm will perform better on weird things like file 10 at recognizing the note :). "
      ],
      "metadata": {
        "id": "bgTJwcfHDyEG"
      },
      "execution_count": null,
      "outputs": []
    },
    {
      "cell_type": "code",
      "source": [
        "#with fourier, try to find all relevant (maybe like 5?) peaks and analyze them.\n",
        "#i'm guessing I can turn the 5-7 main peaks into an array and THAT data should also be enough for instruments? try that as a set of data as well!\n",
        "#see if ML can recognize the above point; i.e., how many effective nodes is it really using? try dropout, etc. to identify how many variables go into an instrument :).\n",
        "#for recognition it might be best to do small sample around biggest frequency? to pick up timbre with that. "
      ],
      "metadata": {
        "id": "ipJ7mMYvm2PK"
      },
      "execution_count": null,
      "outputs": []
    }
  ],
  "metadata": {
    "colab": {
      "collapsed_sections": [
        "4QPC9ZjDZ9XO",
        "PLGuCj4oaCxO",
        "0Zboon_yYGtY",
        "tfQUpgmDT8FU",
        "cEHxQvctSuJJ",
        "HNHY8H04TxFl",
        "njau0V6X_PwM"
      ],
      "name": "Music.ipynb",
      "provenance": [],
      "mount_file_id": "19GUYCoE594XnKrhdhHP9CYHGKCgRbduY",
      "authorship_tag": "ABX9TyOOHVRUrdgtmpd4eURhL6DO",
      "include_colab_link": true
    },
    "kernelspec": {
      "display_name": "Python 3",
      "name": "python3"
    },
    "language_info": {
      "name": "python"
    }
  },
  "nbformat": 4,
  "nbformat_minor": 0
}