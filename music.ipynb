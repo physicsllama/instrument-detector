{
  "cells": [
    {
      "cell_type": "markdown",
      "metadata": {
        "id": "view-in-github",
        "colab_type": "text"
      },
      "source": [
        "<a href=\"https://colab.research.google.com/github/physicsllama/instrument-detector/blob/main/music.ipynb\" target=\"_parent\"><img src=\"https://colab.research.google.com/assets/colab-badge.svg\" alt=\"Open In Colab\"/></a>"
      ]
    },
    {
      "cell_type": "markdown",
      "source": [
        "# Preliminary remarks and ideas\n"
      ],
      "metadata": {
        "id": "4QPC9ZjDZ9XO"
      }
    },
    {
      "cell_type": "code",
      "execution_count": 1,
      "metadata": {
        "id": "VjK9IDs4-nVX"
      },
      "outputs": [],
      "source": [
        "# Goal: AI that recognizes similarity between songs. It'll give a list of similar songs to one.\n",
        "# Maybe a good first thing is to do a clustering thing, where it just categorizes by genre.\n",
        "\n",
        "#Maybe better goal: shazam but for recognizing songs from singing of a melody (NLR useful?)\n",
        "# Try supervised ML, but also unsupervised.\n",
        "\n",
        "# final goal: use technique from MIT course to swipe thru song?"
      ]
    },
    {
      "cell_type": "code",
      "execution_count": 2,
      "metadata": {
        "id": "S0nz9bP6K7Lk"
      },
      "outputs": [],
      "source": [
        "# First need a database with songs. Start out with something simple, and short audio things\n",
        "# Then need to process data. Will I need to Fourier transform/something like that, or can I just feed it into the network?"
      ]
    },
    {
      "cell_type": "code",
      "execution_count": null,
      "metadata": {
        "colab": {
          "base_uri": "https://localhost:8080/",
          "height": 71
        },
        "id": "L0hpzUDkEFK6",
        "outputId": "7085325c-4214-4430-ac05-8197ed3bf2ee"
      },
      "outputs": [
        {
          "data": {
            "application/vnd.google.colaboratory.intrinsic+json": {
              "type": "string"
            },
            "text/plain": [
              "'\\nUseful: https://www.tensorflow.org/io/tutorials/audio\\n\\nhttps://www.altexsoft.com/blog/audio-analysis/\\n\\n\\n\\n\\nAudio sources: \\nhttps://freesound.org/browse/packs/?order=-last_updated\\n\\nhttps://bigsoundbank.com/search\\n\\nhttps://research.google.com/audioset/index.html\\n\\n'"
            ]
          },
          "execution_count": 4,
          "metadata": {},
          "output_type": "execute_result"
        }
      ],
      "source": [
        "''' Some beginning things:\n",
        "\n",
        "1) Take down data from wav files. Use files containing a single note, played with a pitch fork\n",
        "and also played with different instruments. Compare the data. Take Fourier transform. Try\n",
        "to find what note it is from this. Try to deduce instrument playing the note! Normalize stuff to have same volume, same length of audio, etc\n",
        "\n",
        "samples: notes from different instruments https://philharmonia.co.uk/resources/sound-samples/\n",
        "\n",
        "2) Take down data from more complicated files (e.g., 5 seconds).\n",
        "\n",
        "3) Get a sense of how big a neural network I need to represent data from a song\n",
        "(how many inputs are there?)\n",
        "\n",
        "4) Process data for set of songs from different genres (e.g. 3 each from classical,\n",
        "hard rock, pop, and rap) \n",
        "\n",
        "'''\n",
        "\n",
        "\n",
        "'''\n",
        "Useful: https://www.tensorflow.org/io/tutorials/audio\n",
        "\n",
        "https://www.altexsoft.com/blog/audio-analysis/\n",
        "\n",
        "\n",
        "\n",
        "\n",
        "\n",
        "Audio sources: \n",
        "https://freesound.org/browse/packs/?order=-last_updated\n",
        "\n",
        "https://bigsoundbank.com/search\n",
        "\n",
        "https://research.google.com/audioset/index.html\n",
        "\n",
        "'''"
      ]
    },
    {
      "cell_type": "markdown",
      "metadata": {
        "id": "v6FFMDiJWN9u"
      },
      "source": [
        "Take data and separate into training/testing, and arrange into folders in convenient way. Do both myself manually in Python and with automatic pytorch/whatever thing."
      ]
    },
    {
      "cell_type": "markdown",
      "metadata": {
        "id": "5QrFWxopBx9G"
      },
      "source": [
        "Make sure all audio files same length. Perhaps use only files with normal notes (no trill/tremolo nonsense?) first? "
      ]
    },
    {
      "cell_type": "markdown",
      "metadata": {
        "id": "MUMDrNwGCAMU"
      },
      "source": [
        "Sine or something for activation functions? Also, pre-process with Fourier? Or do conv neural net? Some Fourier concept in there.\n",
        "\n",
        "Standard way is to turn into images. Can I come up with something better? [Why are conv nets good for images? What is a similar \"goodness\" thing we can exploit for the properties of audio? Study conv nets first!]\n",
        "\n",
        "Now we begin a standard way of analyzing audio in ML (turning clips into spectrograms). I might experiment with other ways later - Shazam seems to have a more clever way to do it, and I can try to find my own methods.\n",
        "\n",
        "One possibility for instrument detection: maybe it's enough to just take the FFT of a 0.5 or 1 second clip, and the spectral decomposition is enough of a fingerprint?\n",
        "Then turning this fingerprint into a filter might help us isolate individual instruments in songs!\n",
        "\n",
        "Along the previous idea: maybe ML thing can be trained on each individual song (after some pre-training?) to separate out its instruments on a case-by-case basis. It takes e.g., a 1 second clip and within that clip tries to identify different fingerprints left by instruments.\n",
        "\n",
        "Maybe use something with statistical correlations or autocorrelation or something?"
      ]
    },
    {
      "cell_type": "markdown",
      "source": [
        "# Installing dependencies"
      ],
      "metadata": {
        "id": "PLGuCj4oaCxO"
      }
    },
    {
      "cell_type": "code",
      "execution_count": null,
      "metadata": {
        "id": "NXwgXz-FUkgZ"
      },
      "outputs": [],
      "source": [
        "!pip install tensorflow-io"
      ]
    },
    {
      "cell_type": "code",
      "execution_count": null,
      "metadata": {
        "id": "FriCjs2pWJXA"
      },
      "outputs": [],
      "source": [
        "!pip uninstall tensorflow\n",
        "!pip uninstall tensorflow-io\n",
        "!pip install tensorflow-gpu\n",
        "!pip install --no-deps tensorflow-io"
      ]
    },
    {
      "cell_type": "code",
      "execution_count": 3,
      "metadata": {
        "id": "CN1rGWdIWcSg"
      },
      "outputs": [],
      "source": [
        "import os\n",
        "import numpy as np\n",
        "import tensorflow as tf\n",
        "import tensorflow_io as tfio\n",
        "from google.colab import drive\n",
        "import matplotlib.pyplot as plt"
      ]
    },
    {
      "cell_type": "code",
      "execution_count": 4,
      "metadata": {
        "colab": {
          "base_uri": "https://localhost:8080/"
        },
        "id": "Z9t632vGVMX_",
        "outputId": "0294962f-c208-42af-a063-9b5e01b57e3a"
      },
      "outputs": [
        {
          "output_type": "execute_result",
          "data": {
            "text/plain": [
              "['Songs', 'Instruments', 'testcase.csv', 'train_instruments', 'Music.ipynb']"
            ]
          },
          "metadata": {},
          "execution_count": 4
        }
      ],
      "source": [
        "#drive.mount('/content/drive')\n",
        "mainpath = \"/content/drive/MyDrive/Music/\"\n",
        "os.chdir(mainpath)\n",
        "os.getcwd()\n",
        "os.listdir()"
      ]
    },
    {
      "cell_type": "markdown",
      "metadata": {
        "id": "0Zboon_yYGtY"
      },
      "source": [
        "# Organizing data"
      ]
    },
    {
      "cell_type": "code",
      "execution_count": null,
      "metadata": {
        "id": "IuoWVN2GU-nF"
      },
      "outputs": [],
      "source": [
        "instrumentpath = \"Instruments/all-samples/\"\n",
        "os.chdir(instrumentpath)"
      ]
    },
    {
      "cell_type": "code",
      "execution_count": null,
      "metadata": {
        "id": "h5xWR5_sb-Sy"
      },
      "outputs": [],
      "source": [
        "instrument_labels = os.listdir()"
      ]
    },
    {
      "cell_type": "code",
      "execution_count": null,
      "metadata": {
        "id": "9GRvU9NicCm4"
      },
      "outputs": [],
      "source": [
        "os.chdir('./')\n",
        "os.chdir(mainpath)\n",
        "os.chdir('Instruments/')"
      ]
    },
    {
      "cell_type": "code",
      "execution_count": null,
      "metadata": {
        "colab": {
          "base_uri": "https://localhost:8080/"
        },
        "id": "yZQYRoFshhhh",
        "outputId": "354b6aa5-6cc9-4d5d-bfd3-f01fe12aca78"
      },
      "outputs": [
        {
          "data": {
            "text/plain": [
              "['Instruments_train', 'Instruments_test', 'all-samples']"
            ]
          },
          "execution_count": 46,
          "metadata": {},
          "output_type": "execute_result"
        }
      ],
      "source": [
        "os.listdir()"
      ]
    },
    {
      "cell_type": "code",
      "execution_count": null,
      "metadata": {
        "colab": {
          "base_uri": "https://localhost:8080/"
        },
        "id": "lUPbcM70k71P",
        "outputId": "dc957e6b-692d-4b57-99c1-b56aa8d77861"
      },
      "outputs": [
        {
          "data": {
            "text/plain": [
              "['cello',\n",
              " 'trombone',\n",
              " 'bassoon',\n",
              " 'violin',\n",
              " 'bass clarinet',\n",
              " 'banjo',\n",
              " 'clarinet',\n",
              " 'trumpet',\n",
              " 'oboe',\n",
              " 'guitar',\n",
              " 'contrabassoon',\n",
              " 'flute',\n",
              " 'viola',\n",
              " 'mandolin',\n",
              " 'double bass',\n",
              " 'tuba',\n",
              " 'cor anglais',\n",
              " 'french horn',\n",
              " 'percussion',\n",
              " 'saxophone']"
            ]
          },
          "execution_count": 47,
          "metadata": {},
          "output_type": "execute_result"
        }
      ],
      "source": [
        "instrument_labels"
      ]
    },
    {
      "cell_type": "code",
      "execution_count": null,
      "metadata": {
        "colab": {
          "base_uri": "https://localhost:8080/"
        },
        "id": "d9aoMak3t6xg",
        "outputId": "30cfa63c-b4ef-44cf-d72b-11a0034f93ca"
      },
      "outputs": [
        {
          "name": "stdout",
          "output_type": "stream",
          "text": [
            "Moved stuff from cello!\n",
            "Moved stuff from trombone!\n",
            "Moved stuff from bassoon!\n",
            "Moved stuff from violin!\n",
            "Moved stuff from bass clarinet!\n",
            "Moved stuff from banjo!\n",
            "Moved stuff from clarinet!\n",
            "Moved stuff from trumpet!\n",
            "Moved stuff from oboe!\n",
            "Moved stuff from guitar!\n",
            "Moved stuff from contrabassoon!\n",
            "Moved stuff from flute!\n",
            "Moved stuff from viola!\n",
            "Moved stuff from mandolin!\n",
            "Moved stuff from double bass!\n",
            "Moved stuff from tuba!\n",
            "Moved stuff from cor anglais!\n",
            "Moved stuff from french horn!\n",
            "Moved stuff from percussion!\n",
            "Moved stuff from saxophone!\n"
          ]
        }
      ],
      "source": [
        "#Maybe can filter by normal notes later.\n",
        "os.chdir('./')\n",
        "os.chdir(mainpath)\n",
        "os.chdir('Instruments/')\n",
        "\n",
        "for instrument in instrument_labels:\n",
        "  sounds = os.listdir('all-samples/' + instrument)\n",
        "  for sound in sounds:\n",
        "    if sound == '.DS_Store':\n",
        "      pass\n",
        "    else:\n",
        "      soundpath1 = 'all-samples/' + instrument + '/' + sound\n",
        "      p = np.random.rand()\n",
        "      if p <= 0.3:\n",
        "        soundpath2 = 'Instruments_test/' + sound\n",
        "      else:\n",
        "        soundpath2 = 'Instruments_train/' + sound\n",
        "      os.rename(soundpath1, soundpath2)\n",
        "  print('Moved stuff from ' + instrument + '!')"
      ]
    },
    {
      "cell_type": "code",
      "execution_count": null,
      "metadata": {
        "colab": {
          "base_uri": "https://localhost:8080/"
        },
        "id": "r96LemMcYLlp",
        "outputId": "27c0b501-4ce5-4046-bcda-43a1a2f25c69"
      },
      "outputs": [
        {
          "data": {
            "text/plain": [
              "['Instruments_train', 'Instruments_test', 'all-samples']"
            ]
          },
          "execution_count": 60,
          "metadata": {},
          "output_type": "execute_result"
        }
      ],
      "source": [
        "os.listdir()"
      ]
    },
    {
      "cell_type": "code",
      "execution_count": null,
      "metadata": {
        "id": "e-Ey4zUOs6Ke"
      },
      "outputs": [],
      "source": [
        "os.chdir('Instruments_test')"
      ]
    },
    {
      "cell_type": "code",
      "execution_count": null,
      "metadata": {
        "colab": {
          "base_uri": "https://localhost:8080/"
        },
        "id": "FBb1_FDXoR41",
        "outputId": "31fb52a9-34c1-4696-bb8b-819544f4caff"
      },
      "outputs": [
        {
          "data": {
            "text/plain": [
              "4076"
            ]
          },
          "execution_count": 62,
          "metadata": {},
          "output_type": "execute_result"
        }
      ],
      "source": [
        "len(os.listdir())"
      ]
    },
    {
      "cell_type": "code",
      "execution_count": null,
      "metadata": {
        "id": "prkupPjYoUke"
      },
      "outputs": [],
      "source": [
        "os.chdir('../')"
      ]
    },
    {
      "cell_type": "code",
      "execution_count": null,
      "metadata": {
        "id": "ARhB-76OoYh_"
      },
      "outputs": [],
      "source": [
        "os.chdir('Instruments_train')"
      ]
    },
    {
      "cell_type": "code",
      "execution_count": null,
      "metadata": {
        "colab": {
          "base_uri": "https://localhost:8080/"
        },
        "id": "_QHlV47Toa76",
        "outputId": "9724f280-b596-4a90-8a64-daf9432c27ed"
      },
      "outputs": [
        {
          "data": {
            "text/plain": [
              "3"
            ]
          },
          "execution_count": 67,
          "metadata": {},
          "output_type": "execute_result"
        }
      ],
      "source": [
        "len(os.listdir())"
      ]
    },
    {
      "cell_type": "code",
      "execution_count": null,
      "metadata": {
        "id": "B3QFY5eZocPe"
      },
      "outputs": [],
      "source": [
        "os.chdir('../')"
      ]
    },
    {
      "cell_type": "code",
      "execution_count": null,
      "metadata": {
        "id": "3A7gfHE1ot39"
      },
      "outputs": [],
      "source": [
        "#next: delete random folders of percussion and stuff like that that were left over in training and testing. To do this, check that all files in the\n",
        "#training and testing folders were "
      ]
    },
    {
      "cell_type": "markdown",
      "metadata": {
        "id": "9PSvHDe0rUG4"
      },
      "source": [
        "# Pre-processing data: warm-up with one file"
      ]
    },
    {
      "cell_type": "code",
      "source": [
        "filesamplename = os.listdir('Instruments/Instruments_test/')\n",
        "normalnotes = []\n",
        "for i in filesamplename:\n",
        "  if i.find('normal')!=-1:\n",
        "    normalnotes.append(i)\n",
        "np.save('testing_labels', normalnotes, allow_pickle='True')"
      ],
      "metadata": {
        "id": "2EgO8Z5GNlVh"
      },
      "execution_count": 88,
      "outputs": []
    },
    {
      "cell_type": "markdown",
      "source": [
        "We'll start by working with just a single mp3 file and properly understanding how to turn it into:\n",
        "\n",
        "(a) An image (spectrogram)\n",
        "\n",
        "(b) A matrix of numbers starting from the image (is this necessary? Figure out how image recognition works with ML!)\n",
        "\n",
        "(c) A Fourier transform of a reasonably short time (roughly 0.2 seconds since this contains a few oscillations of 10 Hz, which is the lower limit to what we can hear). This might be enough for recognition of instrument, and could potentially help us later to separate out instruments in songs. (ML? Non ML?)"
      ],
      "metadata": {
        "id": "fCdTIUi6SaTy"
      }
    },
    {
      "cell_type": "code",
      "source": [
        "rate1 = 44100\n",
        "duration1 = 0.2\n",
        "points1 = rate1 * duration1"
      ],
      "metadata": {
        "id": "cv5aIiKXxyXl"
      },
      "execution_count": 6,
      "outputs": []
    },
    {
      "cell_type": "code",
      "execution_count": 10,
      "metadata": {
        "id": "TeT1pdX8V6Rv"
      },
      "outputs": [],
      "source": [
        "samplepath = 'Instruments/Instruments_train/' + normalnotes[0]"
      ]
    },
    {
      "cell_type": "code",
      "source": [
        "audiosample = tfio.audio.AudioIOTensor(samplepath)\n",
        "audiosample1 = audiosample[10:]\n",
        "audiosample1 = tf.squeeze(audiosample1)\n",
        "audiosample1 = np.array(audiosample1)\n",
        "middle = np.argmax(audiosample1)\n",
        "begin = int(middle-points1/2)\n",
        "end = int(middle+points1/2)"
      ],
      "metadata": {
        "id": "9jWtewavV2yO"
      },
      "execution_count": 11,
      "outputs": []
    },
    {
      "cell_type": "code",
      "source": [
        "restrictedaudio = audiosample1[begin:end]\n",
        "normalized = (restrictedaudio - np.mean(restrictedaudio))/np.std(restrictedaudio)"
      ],
      "metadata": {
        "id": "_yv4m1cgW4bA"
      },
      "execution_count": 12,
      "outputs": []
    },
    {
      "cell_type": "code",
      "source": [
        "plt.plot(normalized)"
      ],
      "metadata": {
        "colab": {
          "base_uri": "https://localhost:8080/",
          "height": 283
        },
        "id": "JGUbMwXHVHcn",
        "outputId": "b5a638bf-3ff9-4aae-9049-e148e5561fee"
      },
      "execution_count": 13,
      "outputs": [
        {
          "output_type": "execute_result",
          "data": {
            "text/plain": [
              "[<matplotlib.lines.Line2D at 0x7f68d934fe90>]"
            ]
          },
          "metadata": {},
          "execution_count": 13
        },
        {
          "output_type": "display_data",
          "data": {
            "text/plain": [
              "<Figure size 432x288 with 1 Axes>"
            ],
            "image/png": "[encoded data removed]"
          },
          "metadata": {
            "needs_background": "light"
          }
        }
      ]
    },
    {
      "cell_type": "markdown",
      "source": [
        "Restrictedaudio above will be one type of array which we will be saving.\n",
        "Afterwards we can play around with it and turn into images, etc. But for now\n",
        "make a folder in which to save all those things!"
      ],
      "metadata": {
        "id": "VBqzxTUgygEK"
      }
    },
    {
      "cell_type": "code",
      "source": [
        "#assert the length will be at least 8000 or whatever?"
      ],
      "metadata": {
        "id": "qJb9D7FNyf0b"
      },
      "execution_count": null,
      "outputs": []
    },
    {
      "cell_type": "code",
      "source": [
        "# ANOTHER NOTE: CSV FILES ARE VERY HEAVY AND WEIGH MORE THAN ORIGINAL MP3. IS THERE A BETTER WAY?\n",
        "\n",
        "#spectrogram = tfio.audio.spectrogram(normalized, nfft=512, window=512, stride=256)"
      ],
      "metadata": {
        "id": "vpn-NJ5TPwe-"
      },
      "execution_count": null,
      "outputs": []
    },
    {
      "cell_type": "markdown",
      "source": [
        "# Pre-processing data"
      ],
      "metadata": {
        "id": "tfQUpgmDT8FU"
      }
    },
    {
      "cell_type": "code",
      "source": [
        "# Next: Turn all of the MP3 files into data types like the previous section.\n",
        "# Then normalize image data. Make sure both that:\n",
        "# 1: Amplitudes go from 0 to 1?\n",
        "# 2: Lengths are the same?"
      ],
      "metadata": {
        "id": "_7arVoAzQXMI"
      },
      "execution_count": null,
      "outputs": []
    },
    {
      "cell_type": "code",
      "source": [
        "#make functions nicer later! (add domain and range, as well as function descriptions)\n",
        "def io_to_array(io_tensor):\n",
        "  trimmed_tensor = io_tensor[10:]\n",
        "  squeezed_tensor = tf.squeeze(trimmed_tensor)\n",
        "  return np.array(squeezed_tensor)\n",
        "\n",
        "def restricted_audio(rate, duration, audio):\n",
        "  points = rate * duration\n",
        "  middle = np.argmax(audio)\n",
        "  begin = int(middle-points/2)\n",
        "  end = int(middle+points/2)\n",
        "  return audio[begin:end]"
      ],
      "metadata": {
        "id": "wgp0u91rQEob"
      },
      "execution_count": 7,
      "outputs": []
    },
    {
      "cell_type": "code",
      "source": [
        "normalarrays = []\n",
        "for i in range(0,len(normalnotes)-1):\n",
        "  path = 'Instruments/Instruments_test/' + normalnotes[i]\n",
        "  iofile = tfio.audio.AudioIOTensor(path)\n",
        "  normalarrays.append(io_to_array(iofile))\n",
        "  if i %100 == 0:\n",
        "    print (str(i) + ' done!') "
      ],
      "metadata": {
        "id": "u04vHORWXnWT"
      },
      "execution_count": null,
      "outputs": []
    },
    {
      "cell_type": "code",
      "source": [
        "np.save('normal_arrays_test', normalarrays, allow_pickle = 'True')"
      ],
      "metadata": {
        "colab": {
          "base_uri": "https://localhost:8080/"
        },
        "id": "oB8p-5lkjhZs",
        "outputId": "f388b7e6-93f0-4312-f723-8a6937404698"
      },
      "execution_count": 95,
      "outputs": [
        {
          "output_type": "stream",
          "name": "stderr",
          "text": [
            "/usr/local/lib/python3.7/dist-packages/numpy/lib/npyio.py:528: VisibleDeprecationWarning: Creating an ndarray from ragged nested sequences (which is a list-or-tuple of lists-or-tuples-or ndarrays with different lengths or shapes) is deprecated. If you meant to do this, you must specify 'dtype=object' when creating the ndarray.\n",
            "  arr = np.asanyarray(arr)\n"
          ]
        }
      ]
    },
    {
      "cell_type": "markdown",
      "source": [
        "Start from here!\n",
        "I now have the data.\n",
        "Need to normalize, and maybe trim to have same length forall?"
      ],
      "metadata": {
        "id": "F2DcOZdBkSWw"
      }
    },
    {
      "cell_type": "code",
      "source": [
        "# establish minimum length of audio. maybe 0.5 seconds? this is 22k approx\n",
        "smallest = 20000\n",
        "k = 0\n",
        "for i in normalarrays:\n",
        "  if len(i) < smallest:\n",
        "    k+=1\n",
        "print(k)\n",
        "#ISSUE: all arrays in normalarrays seem to be the same size. but for different notes, we should have different durations! did i use \n",
        "#figure out min length of array in normalarrays list!"
      ],
      "metadata": {
        "colab": {
          "base_uri": "https://localhost:8080/"
        },
        "id": "zq9F7u9_Yin1",
        "outputId": "66a0ff2f-3301-4c8d-bf96-a471aa344124"
      },
      "execution_count": 40,
      "outputs": [
        {
          "output_type": "stream",
          "name": "stdout",
          "text": [
            "957\n"
          ]
        }
      ]
    },
    {
      "cell_type": "code",
      "source": [
        "arraysample1 = io_to_array(audiosample1)\n",
        "restrictedsample1 = restricted_audio(rate1, 3*duration1, arraysample1)\n",
        "plt.plot(restrictedsample1)\n",
        "\n",
        "#lesson: different audio files might require very different durations for us to get a decent idea!!\n",
        "#do we do different durations depending on the file? or do we do the max possible duration for all? (this would require knowing the samllest file)\n",
        "#conceptual issue: maybe we can't hear more modes in 0.2 seconds, but perhaps the timbre is specified by longer time scales as well? or vibrato, etc..."
      ],
      "metadata": {
        "colab": {
          "base_uri": "https://localhost:8080/",
          "height": 283
        },
        "id": "RdgnGuhoVz8X",
        "outputId": "e4e63bf1-a8dd-4095-9214-c25835a930a1"
      },
      "execution_count": 35,
      "outputs": [
        {
          "output_type": "execute_result",
          "data": {
            "text/plain": [
              "[<matplotlib.lines.Line2D at 0x7f1e87415790>]"
            ]
          },
          "metadata": {},
          "execution_count": 35
        },
        {
          "output_type": "display_data",
          "data": {
            "text/plain": [
              "<Figure size 432x288 with 1 Axes>"
            ],
            "image/png": "[encoded data removed]"
          },
          "metadata": {
            "needs_background": "light"
          }
        }
      ]
    },
    {
      "cell_type": "code",
      "source": [
        "train_names = os.listdir('Instruments/Instruments_train/')"
      ],
      "metadata": {
        "id": "fmL83hKHRxb8"
      },
      "execution_count": null,
      "outputs": []
    },
    {
      "cell_type": "code",
      "source": [
        "np.savetxt('testcase.csv', spectrogram, delimiter=',')"
      ],
      "metadata": {
        "id": "B-sm6K2i-ZvK"
      },
      "execution_count": null,
      "outputs": []
    },
    {
      "cell_type": "code",
      "source": [
        "# Up next: restrict to a smaller subset of the data! Maybe only 100 (random) sounds for each instrument is enough.\n",
        "# Then see what happens as size of data set changes to experiment with that."
      ],
      "metadata": {
        "id": "5pdpHZ7KE-nh"
      },
      "execution_count": null,
      "outputs": []
    },
    {
      "cell_type": "code",
      "source": [
        "spectrograms = []\n",
        "for i in np.arange(0, len(train_names)):\n",
        "  path = 'Instruments/Instruments_train/' + filesamplename[i]\n",
        "  audio = tfio.audio.AudioIOTensor(path)\n",
        "  audio = audio[10:] # What does this do?!\n",
        "  audio = tf.squeeze(audio, axis=[-1])\n",
        "  audio = np.array(audio)\n",
        "  spectrogram = tfio.audio.spectrogram(audiosample1, nfft=512, window=512, stride=256)\n",
        "  spectrograms.append(spectrogram)\n",
        "  if i % 100 == 0:\n",
        "    print('Done with ' + str(i) + '!')\n",
        "  np.savetxt('Instruments/Instruments_train/spectrogram_' + filesamplename[i] + '.csv' , spectrogram, delimiter=',')\n",
        "\n",
        "np.savetxt('spectrograms.csv', spectrograms, delimiter=',')"
      ],
      "metadata": {
        "id": "JllUMX7MR7CO"
      },
      "execution_count": null,
      "outputs": []
    },
    {
      "cell_type": "code",
      "source": [
        "# Plot a few spectrograms to check it's all ok!"
      ],
      "metadata": {
        "id": "A2XSswrVUEm6"
      },
      "execution_count": null,
      "outputs": []
    },
    {
      "cell_type": "markdown",
      "source": [
        "# Defining the model"
      ],
      "metadata": {
        "id": "1qRy8YaKRVxs"
      }
    },
    {
      "cell_type": "code",
      "source": [
        ""
      ],
      "metadata": {
        "id": "OSPTQIIiRe3A"
      },
      "execution_count": null,
      "outputs": []
    }
  ],
  "metadata": {
    "colab": {
      "collapsed_sections": [
        "4QPC9ZjDZ9XO",
        "PLGuCj4oaCxO",
        "0Zboon_yYGtY",
        "9PSvHDe0rUG4",
        "tfQUpgmDT8FU",
        "1qRy8YaKRVxs"
      ],
      "name": "Music.ipynb",
      "provenance": [],
      "mount_file_id": "19GUYCoE594XnKrhdhHP9CYHGKCgRbduY",
      "authorship_tag": "ABX9TyPYnrrTuEgxeNkIrrO88BmD",
      "include_colab_link": true
    },
    "kernelspec": {
      "display_name": "Python 3",
      "name": "python3"
    },
    "language_info": {
      "name": "python"
    }
  },
  "nbformat": 4,
  "nbformat_minor": 0
}